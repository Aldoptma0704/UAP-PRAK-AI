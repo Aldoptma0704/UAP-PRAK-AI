{
  "nbformat": 4,
  "nbformat_minor": 0,
  "metadata": {
    "colab": {
      "provenance": [],
      "authorship_tag": "ABX9TyNqUg99UsOdgYQdwRMmQ76X"
    },
    "kernelspec": {
      "name": "python3",
      "display_name": "Python 3"
    },
    "language_info": {
      "name": "python"
    }
  },
  "cells": [
    {
      "cell_type": "markdown",
      "source": [
        "**UAS PRAKTIKUM AI**"
      ],
      "metadata": {
        "id": "pBPibewRZshe"
      }
    },
    {
      "cell_type": "markdown",
      "source": [
        "\n",
        "\n",
        "*   **Aldo Pratama**\n",
        "*   **2217051144**\n",
        "\n",
        "*   **Kelas D**\n",
        "\n",
        "\n",
        "---\n",
        "\n",
        "\n",
        "\n",
        "\n",
        "\n"
      ],
      "metadata": {
        "id": "05jyvcdDxf3z"
      }
    },
    {
      "cell_type": "markdown",
      "source": [
        "NPM Terakhir 4 karena itu Studi kasus yang didapat adalah:"
      ],
      "metadata": {
        "id": "uSKizhbnZydt"
      }
    },
    {
      "cell_type": "markdown",
      "source": [
        "**2. Menentukan Pemain Bola Terbaik**"
      ],
      "metadata": {
        "id": "6DQrLyTDZ_z7"
      }
    },
    {
      "cell_type": "markdown",
      "source": [
        "  Anda adalah seorang pelatih sebuah klub sepak bola dan sedang\n",
        "  menentukan pemain terbaik di klub untuk mengikuti pertandingan\n",
        "  selanjutnya. Menggunakan metode AHP, bagaimana anda akan\n",
        "  menentukan pemain terbaik? Gunakan kriteria dan pemain yang ingin\n",
        "  anda nilai."
      ],
      "metadata": {
        "id": "OR4nPqcDaF6r"
      }
    },
    {
      "cell_type": "markdown",
      "source": [
        "Masuk Ke penjelasan studi kasusnya"
      ],
      "metadata": {
        "id": "7vDPlnY7a50r"
      }
    },
    {
      "cell_type": "markdown",
      "source": [
        "Disini saya membuat studi kasus terkait atau sesuai tema diatas dengan contoh klub sepak bola persib bandung dimana pelatih ingin membuat perhitungan atau menentukan siapa pemain terbaik yang akan bermain pada pertandingan berikutnya dimana pemain yang terbaik adalah seorang winger/sayap depan untuk melakukan penyerangan."
      ],
      "metadata": {
        "id": "C3o9RnrCt152"
      }
    },
    {
      "cell_type": "markdown",
      "source": [
        "1. Mendifinisikan Hierarki Keputusan"
      ],
      "metadata": {
        "id": "lXXJo4BpcVYl"
      }
    },
    {
      "cell_type": "markdown",
      "source": [
        "\n",
        "\n",
        "*   Tujuan: Memilih pemain yang akan dimainkan di pertandingan selanjutnya\n",
        "\n",
        "*   Kriteria: Kecepatan, Pemahaman, Pengalaman, Sikap\n",
        "*   Alternatif: Febri Hariyadi, Edo Febriansyah, Beckham Putra,Riyan Kurnia\n",
        "\n",
        "\n"
      ],
      "metadata": {
        "id": "2EOrgr2cbA3J"
      }
    },
    {
      "cell_type": "markdown",
      "source": [
        "2. Perbandingan Berpasangan untuk Kriteria"
      ],
      "metadata": {
        "id": "O7ozjqo5cZkN"
      }
    },
    {
      "cell_type": "markdown",
      "source": [
        "\n",
        "\n",
        "*   Kita akan menggunakan skala 1-9 untuk mengukur preferensi berdasarkan skor prioritas utama (5:4:3:2).\n",
        "\n"
      ],
      "metadata": {
        "id": "mMrElkK9ciY0"
      }
    },
    {
      "cell_type": "markdown",
      "source": [
        "3. Menghitung Bobot Alternatif untuk Setiap Kriteria dan Menggabungkannya untuk menentukan Pemain yang layak bermain selanjutnya"
      ],
      "metadata": {
        "id": "gTxsfHGHc_z7"
      }
    },
    {
      "cell_type": "markdown",
      "source": [
        "Langkah 1: Matriks Perbandingan Berpasangan untuk Kriteria Kriteria:"
      ],
      "metadata": {
        "id": "97appSzwdLiI"
      }
    },
    {
      "cell_type": "markdown",
      "source": [
        "\n",
        "\n",
        "*   Febri Hariyadi (F)\n",
        "\n",
        "*   Edo Febriansyah (E)\n",
        "*   Beckham Putra (B)\n",
        "\n",
        "\n",
        "*   Riyan Kurnia (R)\n",
        "\n",
        "\n",
        "\n"
      ],
      "metadata": {
        "id": "eFFrLBdxdUSh"
      }
    },
    {
      "cell_type": "markdown",
      "source": [
        "Skor prioritas utama: 5-4-3-2"
      ],
      "metadata": {
        "id": "QRwJ4MbAdplD"
      }
    },
    {
      "cell_type": "markdown",
      "source": [
        "Matriks perbandingan berpasangan untuk kriteria"
      ],
      "metadata": {
        "id": "O0qFPO51dtHr"
      }
    },
    {
      "cell_type": "markdown",
      "source": [
        "\n",
        "\n",
        "*   F V E: 5/4\n",
        "\n",
        "*   F V B: 5/3\n",
        "*   F V R: 5/2\n",
        "\n",
        "\n",
        "*   E V B: 4/3\n",
        "*   E V R: 4/2\n",
        "\n",
        "\n",
        "*   B V R: 3/2\n",
        "\n",
        "\n",
        "\n",
        "\n",
        "\n"
      ],
      "metadata": {
        "id": "HqxfAvNYdwxz"
      }
    },
    {
      "cell_type": "code",
      "execution_count": null,
      "metadata": {
        "id": "2tZNbTtDZjNr"
      },
      "outputs": [],
      "source": [
        "import numpy as np"
      ]
    },
    {
      "cell_type": "code",
      "source": [
        "def ahp(matrix):\n",
        "  # Menghitung nilai eigen dan vektor eigen dari matriks perbandingan\n",
        "  eig_val, eig_vec = np.linalg.eig(matrix)\n",
        "\n",
        "  # Menemukan nilai eigen maksimum\n",
        "  max_eig_val = np.max(np.real(eig_val))\n",
        "\n",
        "  # Menemukan vektor eigen yang sesuai dan menormalkan untuk mendapatkan bobot relatif\n",
        "  eig_vec = np.real(eig_vec[:, np.argmax(np.real(eig_val))])\n",
        "  weights = eig_vec / np.sum(eig_vec)\n",
        "\n",
        "  # Menghitung Indeks Konsistensi (CI)\n",
        "  n = matrix.shape[0]\n",
        "  ci = (max_eig_val - n) / (n - 1)\n",
        "\n",
        "  # Nilai Indeks Acak (RI) berdasarkan ukuran matriks\n",
        "  ri_values = {1: 0, 2: 0, 3: 0.58, 4: 0.90, 5: 1.12, 6: 1.24, 7: 1.32, 8: 1.41, 9: 1.45, 10: 1.49}\n",
        "  ri = ri_values.get(n, 0.90)  # Disini nilai RI yang saya gunakan adalah 0.90 karena matrix size yang saya gunakan ada 4\n",
        "\n",
        "  # Menghitung Rasio Konsistensi (CR)\n",
        "  cr = ci / ri\n",
        "\n",
        "  return weights, cr\n",
        "\n",
        "# Matriks perbandingan berpasangan untuk kriteria\n",
        "criteria_matrix = np.array([\n",
        "    [1,   5/4, 5/3, 5/2],\n",
        "    [4/5, 1,   4/3, 4/2],\n",
        "    [3/5, 3/4, 1,   3/2],\n",
        "    [2/5, 2/4, 2/3, 1, ]\n",
        "])\n",
        "\n",
        "# Menghitung bobot dan rasio konsistensi untuk kriteria\n",
        "criteria_weights, criteria_cr = ahp(criteria_matrix)\n",
        "\n",
        "print(\"Bobot Kriteria:\", criteria_weights)\n",
        "print(\"Rasio Konsistensi (CR):\", criteria_cr)\n",
        "\n",
        "# Periksa apakah rasio konsistensi dapat diterima\n",
        "if criteria_cr < 0.1:\n",
        "    print(\"Matriks konsisten.\")\n",
        "else:\n",
        "    print(\"Matriks tidak konsisten.\")"
      ],
      "metadata": {
        "colab": {
          "base_uri": "https://localhost:8080/"
        },
        "id": "GSXlwmOzeSRM",
        "outputId": "076368f3-708e-461b-c40a-7901eb7cb695"
      },
      "execution_count": null,
      "outputs": [
        {
          "output_type": "stream",
          "name": "stdout",
          "text": [
            "Bobot Kriteria: [0.35714286 0.28571429 0.21428571 0.14285714]\n",
            "Rasio Konsistensi (CR): 0.0\n",
            "Matriks konsisten.\n"
          ]
        }
      ]
    },
    {
      "cell_type": "markdown",
      "source": [
        "Pada langkah selanjutnya saya akan membuat matriks perbandingan berpasangan untuk alternatif Kecepatan, Pemahaman, Pengalaman, Sikap"
      ],
      "metadata": {
        "id": "2rKF8SC2fr4l"
      }
    },
    {
      "cell_type": "markdown",
      "source": [
        "Berdasarkan skor kecepatan,Pemahaman,Pengalaman, dan sikap yang diberikan:"
      ],
      "metadata": {
        "id": "tI0i5kj8jPSd"
      }
    },
    {
      "cell_type": "code",
      "source": [
        "# Matriks perbandingan berpasangan untuk alternatif berdasarkan Kecapatan\n",
        "kecepatan_matrix = np.array([\n",
        "    [1, 5/3, 5/2, 5/4],\n",
        "    [3/5, 1, 3/2, 3/4],\n",
        "    [2/5, 2/3, 1, 2/4],\n",
        "    [4/5, 4/3, 4/2, 1]\n",
        "])\n",
        "\n",
        "# Matriks perbandingan berpasangan untuk alternatif berdasarkan Pemahaman\n",
        "pemahaman_matrix = np.array([\n",
        "    [1, 5/3, 5/2, 5/4],\n",
        "    [3/5, 1, 3/2, 3/4],\n",
        "    [2/5, 2/3, 1, 2/4],\n",
        "    [4/5, 4/3, 4/2, 1]\n",
        "])\n",
        "\n",
        "# Matriks perbandingan berpasangan untuk alternatif berdasarkan Pengalaman\n",
        "pengalaman_matrix = np.array([\n",
        "    [1, 2/3, 2/4, 2/5],\n",
        "    [3/2, 1, 3/4, 3/5],\n",
        "    [4/2, 4/2, 1, 4/5],\n",
        "    [5/2, 5/3, 5/4, 1]\n",
        "])\n",
        "\n",
        "# Matriks perbandingan berpasangan untuk alternatif berdasarkan Sikap\n",
        "sikap_matrix = np.array([\n",
        "    [1, 5/3, 5/2, 8/4],\n",
        "    [3/5, 1, 3/2, 3/4],\n",
        "    [2/5, 2/3, 1, 2/4],\n",
        "    [4/5, 4/3, 4/2, 1]\n",
        "])\n",
        "\n",
        "\n",
        "# Menghitung bobot alternatif untuk setiap kriteria\n",
        "kecepatan_weights, kecepatan_cr = ahp(kecepatan_matrix)\n",
        "pemahaman_weights, pemahaman_cr = ahp(pemahaman_matrix)\n",
        "pengalaman_weights, pengalaman_cr = ahp(pengalaman_matrix)\n",
        "sikap_weights, sikap_cr = ahp(sikap_matrix)\n",
        "\n",
        "print(\"Bobot Alternatif Berdasarkan Performa:\", kecepatan_weights)\n",
        "print(\"Rasio Konsistensi (CR) Performa:\", kecepatan_cr)\n",
        "\n",
        "print(\"Bobot Alternatif Berdasarkan Performa:\", pemahaman_weights)\n",
        "print(\"Rasio Konsistensi (CR) Performa:\", pemahaman_cr)\n",
        "\n",
        "print(\"Bobot Alternatif Berdasarkan Performa:\", pengalaman_weights)\n",
        "print(\"Rasio Konsistensi (CR) Performa:\", pengalaman_cr)\n",
        "\n",
        "print(\"Bobot Alternatif Berdasarkan Performa:\", sikap_weights)\n",
        "print(\"Rasio Konsistensi (CR) Performa:\", sikap_cr)"
      ],
      "metadata": {
        "colab": {
          "base_uri": "https://localhost:8080/"
        },
        "id": "mwNpBzghjgtK",
        "outputId": "3b25c6f3-34c8-4d35-fca7-756aabc1e0d4"
      },
      "execution_count": null,
      "outputs": [
        {
          "output_type": "stream",
          "name": "stdout",
          "text": [
            "Bobot Alternatif Berdasarkan Performa: [0.35714286 0.21428571 0.14285714 0.28571429]\n",
            "Rasio Konsistensi (CR) Performa: 0.0\n",
            "Bobot Alternatif Berdasarkan Performa: [0.35714286 0.21428571 0.14285714 0.28571429]\n",
            "Rasio Konsistensi (CR) Performa: 0.0\n",
            "Bobot Alternatif Berdasarkan Performa: [0.13807119 0.20710678 0.30964406 0.34517797]\n",
            "Rasio Konsistensi (CR) Performa: 0.04493346057764615\n",
            "Bobot Alternatif Berdasarkan Performa: [0.38874497 0.20375168 0.13583445 0.2716689 ]\n",
            "Rasio Konsistensi (CR) Performa: 0.053615207019527225\n"
          ]
        }
      ]
    },
    {
      "cell_type": "markdown",
      "source": [
        "Setelah mendapatjan bobo setiap kriteria dan bobot alternatifnya dari setiap kriteria, selanjutnya saya dapat menghitung skor akhir untuk setiap alternatif"
      ],
      "metadata": {
        "id": "dm7ZDD9HrWxB"
      }
    },
    {
      "cell_type": "code",
      "source": [
        "# Menggabungkan bobot kriteria dan bobot alternatif\n",
        "final_scores = np.dot(criteria_weights, np.array([kecepatan_weights, pemahaman_weights, pengalaman_weights, sikap_weights]))\n",
        "#Alternatif: Febri Hariyadi, Edo Febriansyah, Beckham Putra,Riyan Kurnia\n",
        "alternatives = [\"Febri Hariyadi\", \"Edo Febriansyah\", \"Beckham Putra\", \"Riyan Kurnia\"]\n",
        "print(\"Skor Akhir Alternatif:\")\n",
        "for i, score in enumerate(final_scores):\n",
        "    print(f\"{alternatives[i]}: {score:.4f}\")\n",
        "\n",
        "# Alternatif dengan skor tertinggi adalah pilihan terbaik\n",
        "best_alternative = alternatives[np.argmax(final_scores)]\n",
        "print(f\"Alternatif terbaik adalah: {best_alternative}\")"
      ],
      "metadata": {
        "colab": {
          "base_uri": "https://localhost:8080/"
        },
        "id": "2NF9EQoorlYS",
        "outputId": "b79b2571-8364-4ee1-9118-f08b39926b51"
      },
      "execution_count": null,
      "outputs": [
        {
          "output_type": "stream",
          "name": "stdout",
          "text": [
            "Skor Akhir Alternatif:\n",
            "Febri Hariyadi: 0.3147\n",
            "Edo Febriansyah: 0.2112\n",
            "Beckham Putra: 0.1776\n",
            "Riyan Kurnia: 0.2965\n",
            "Alternatif terbaik adalah: Febri Hariyadi\n"
          ]
        }
      ]
    }
  ]
}